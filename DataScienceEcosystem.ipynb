{
  "metadata": {
    "kernelspec": {
      "name": "python",
      "display_name": "Python (Pyodide)",
      "language": "python"
    },
    "language_info": {
      "codemirror_mode": {
        "name": "python",
        "version": 3
      },
      "file_extension": ".py",
      "mimetype": "text/x-python",
      "name": "python",
      "nbconvert_exporter": "python",
      "pygments_lexer": "ipython3",
      "version": "3.8"
    }
  },
  "nbformat_minor": 4,
  "nbformat": 4,
  "cells": [
    {
      "cell_type": "markdown",
      "source": "# Outils et écosystème de la science des données",
      "metadata": {}
    },
    {
      "cell_type": "markdown",
      "source": "# Dans ce notebook, les outils et l'écosystème de la science des données sont résumés.",
      "metadata": {}
    },
    {
      "cell_type": "markdown",
      "source": "# **Objectifs :**\n* Lister les langages populaires pour la science des données\n* Lister les bibliothèques couramment utilisées par les scientifiques des données\n* Lister les outils couramment utilisés par les scientifiques des données\n* Créer des cellules markdown",
      "metadata": {}
    },
    {
      "cell_type": "markdown",
      "source": "# Certains des langages populaires que les scientifiques des données utilisent sont :\n1. Python\n2. Java\n3. Scala",
      "metadata": {}
    },
    {
      "cell_type": "markdown",
      "source": "# Certaines des bibliothèques couramment utilisées par les scientifiques des données incluent :\n1. Pandas\n2. NumPy\n3. Matplotlib",
      "metadata": {}
    },
    {
      "cell_type": "markdown",
      "source": "## Execute as a markdown cell\n\n| Outils de la science des données| \n| --------------------------------|\n| Jupyter Notebook |\n| Jupyter Lite|\n| RStudio |",
      "metadata": {}
    },
    {
      "cell_type": "markdown",
      "source": "### Voici quelques exemples d'évaluation d'expressions arithmétiques en Python",
      "metadata": {}
    },
    {
      "cell_type": "code",
      "source": "#Ceci est une simple expression arithmétique pour multiplier puis additionner des entiers\n(3*4)+5",
      "metadata": {
        "trusted": true
      },
      "outputs": [
        {
          "execution_count": 3,
          "output_type": "execute_result",
          "data": {
            "text/plain": "17"
          },
          "metadata": {}
        }
      ],
      "execution_count": 3
    },
    {
      "cell_type": "code",
      "source": "#Cela convertira 200 minutes en heures en divisant par 60\n200/60",
      "metadata": {
        "trusted": true
      },
      "outputs": [
        {
          "execution_count": 4,
          "output_type": "execute_result",
          "data": {
            "text/plain": "3.3333333333333335"
          },
          "metadata": {}
        }
      ],
      "execution_count": 4
    },
    {
      "cell_type": "markdown",
      "source": "## Auteur \nYAOU OUDOU Fatoumatou",
      "metadata": {}
    },
    {
      "cell_type": "code",
      "source": "",
      "metadata": {
        "trusted": true
      },
      "outputs": [],
      "execution_count": null
    },
    {
      "cell_type": "code",
      "source": "",
      "metadata": {
        "trusted": true
      },
      "outputs": [],
      "execution_count": null
    },
    {
      "cell_type": "code",
      "source": "",
      "metadata": {
        "trusted": true
      },
      "outputs": [],
      "execution_count": null
    },
    {
      "cell_type": "code",
      "source": "",
      "metadata": {
        "trusted": true
      },
      "outputs": [],
      "execution_count": null
    }
  ]
}